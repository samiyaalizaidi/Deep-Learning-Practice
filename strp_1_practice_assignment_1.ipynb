{
  "nbformat": 4,
  "nbformat_minor": 0,
  "metadata": {
    "colab": {
      "provenance": [],
      "gpuType": "T4",
      "authorship_tag": "ABX9TyOABlKDiuBcOHscevhdMbsB",
      "include_colab_link": true
    },
    "kernelspec": {
      "name": "python3",
      "display_name": "Python 3"
    },
    "language_info": {
      "name": "python"
    },
    "accelerator": "GPU"
  },
  "cells": [
    {
      "cell_type": "markdown",
      "metadata": {
        "id": "view-in-github",
        "colab_type": "text"
      },
      "source": [
        "<a href=\"https://colab.research.google.com/github/samiyaalizaidi/Deep-Learning-Practice/blob/main/strp_1_practice_assignment_1.ipynb\" target=\"_parent\"><img src=\"https://colab.research.google.com/assets/colab-badge.svg\" alt=\"Open In Colab\"/></a>"
      ]
    },
    {
      "cell_type": "markdown",
      "source": [
        "# **Task 1**: Load and Preprocess the CIFAR-10 Dataset"
      ],
      "metadata": {
        "id": "4QDiI64sanYw"
      }
    },
    {
      "cell_type": "markdown",
      "source": [
        "### Loading the Libraries and the Frameworks"
      ],
      "metadata": {
        "id": "dX5VZ8gCVxoP"
      }
    },
    {
      "cell_type": "code",
      "execution_count": null,
      "metadata": {
        "id": "3tcLHz3LVsaL"
      },
      "outputs": [],
      "source": [
        "# data visualization and manipulation libraries\n",
        "import matplotlib.pyplot as plt\n",
        "import numpy as np\n",
        "from tqdm import tqdm\n",
        "\n",
        "# Pytorch\n",
        "import torch\n",
        "import torchvision\n",
        "import torch.nn.functional as F # Contains all the activation functions\n",
        "import torch.nn as nn # The Neural Network\n",
        "import torch.optim as optim # The Optimizer\n",
        "import torchvision.transforms as transforms # The Tranform to be used\n",
        "\n",
        "from torch.utils.data import DataLoader # Dataloader"
      ]
    },
    {
      "cell_type": "markdown",
      "source": [
        "### Set up the device"
      ],
      "metadata": {
        "id": "hLKPEMUmXBp0"
      }
    },
    {
      "cell_type": "code",
      "source": [
        "device = torch.device(\"cuda\") if torch.cuda.is_available() else torch.device(\"cpu\")\n",
        "print(\"device:\", device)"
      ],
      "metadata": {
        "colab": {
          "base_uri": "https://localhost:8080/"
        },
        "id": "HRGYDFfFXEOP",
        "outputId": "c39228ba-7fa8-4f35-ca70-8eeecb3894ea"
      },
      "execution_count": null,
      "outputs": [
        {
          "output_type": "stream",
          "name": "stdout",
          "text": [
            "device: cuda\n"
          ]
        }
      ]
    },
    {
      "cell_type": "markdown",
      "source": [
        "### Download the **Dataset**"
      ],
      "metadata": {
        "id": "vp4jNNtWYJwa"
      }
    },
    {
      "cell_type": "code",
      "source": [
        "# we first download the dataset without using any transform\n",
        "training_data = torchvision.datasets.CIFAR10(root='./data/CIFAR10', train=True, download=True)\n",
        "\n",
        "# observe the shape of the data\n",
        "print(training_data.data.shape)\n",
        "\n",
        "'''\n",
        "This shows that:\n",
        "50000 => Number of Images\n",
        "32 => Width\n",
        "32 => Height\n",
        "3 => Number of Channels\n",
        "'''"
      ],
      "metadata": {
        "colab": {
          "base_uri": "https://localhost:8080/",
          "height": 70
        },
        "id": "WX8vtpiLYExh",
        "outputId": "c364a891-bcfe-4c15-de2a-9304ffb72f8c"
      },
      "execution_count": null,
      "outputs": [
        {
          "output_type": "stream",
          "name": "stdout",
          "text": [
            "Files already downloaded and verified\n",
            "(50000, 32, 32, 3)\n"
          ]
        },
        {
          "output_type": "execute_result",
          "data": {
            "text/plain": [
              "' \\nThis shows that:\\n50000 => Number of Images\\n32 => Width\\n32 => Height\\n3 => Number of Channels\\n'"
            ],
            "application/vnd.google.colaboratory.intrinsic+json": {
              "type": "string"
            }
          },
          "metadata": {},
          "execution_count": 112
        }
      ]
    },
    {
      "cell_type": "markdown",
      "source": [
        "### Creating Transforms and Dataloaders"
      ],
      "metadata": {
        "id": "JZFkcmLPZ6TP"
      }
    },
    {
      "cell_type": "code",
      "source": [
        "# We just want to convert it to a tensor\n",
        "training_transform = transforms.Compose([\n",
        "    transforms.ToTensor()\n",
        "])\n",
        "\n",
        "# We use the same transform for the training and validation data\n",
        "testing_transform = training_transform\n",
        "\n",
        "# we download the data set again\n",
        "# but\n",
        "# this time we will be applying the transforms as well\n",
        "\n",
        "training_data = torchvision.datasets.CIFAR10(root='./data/CIFAR10', train=True, download=True, transform=training_transform)\n",
        "testing_data = torchvision.datasets.CIFAR10(root='./data/CIFAR10', train=False, download=True, transform=testing_transform)\n",
        "\n",
        "# Making the dataloader\n",
        "training_loader = DataLoader(training_data, batch_size = 128, shuffle = True, num_workers = 2)\n",
        "testing_loader = DataLoader(testing_data, batch_size = 256, shuffle = False, num_workers = 2)\n"
      ],
      "metadata": {
        "colab": {
          "base_uri": "https://localhost:8080/"
        },
        "id": "VspzlcGyZ47o",
        "outputId": "b188b665-0d2b-44e6-94aa-8a04d9bd03d7"
      },
      "execution_count": null,
      "outputs": [
        {
          "output_type": "stream",
          "name": "stdout",
          "text": [
            "Files already downloaded and verified\n",
            "Files already downloaded and verified\n"
          ]
        }
      ]
    },
    {
      "cell_type": "code",
      "source": [
        "# Defining the Classes present\n",
        "CIFAR10_CLASSES = [\"airplane\", \"automobile\", \"bird\", \"cat\", \"deer\", \"dog\", \"frog\", \"horse\", \"ship\", \"truck\"]\n",
        "\n",
        "# defining the number of rows and cols to be displayed\n",
        "rows = 3\n",
        "cols = 3\n",
        "\n",
        "# getting the samples from the training set\n",
        "image = training_data.data[:rows*cols]\n",
        "label = training_data.targets[:rows*cols]\n",
        "\n",
        "fig = plt.figure(figsize=(2 * cols, 2 * rows))\n",
        "\n",
        "i = 0\n",
        "\n",
        "# Add subplot for each image\n",
        "for col in range(cols):\n",
        "    for row in range(rows):\n",
        "\n",
        "        ax = fig.add_subplot(rows, cols, col * rows + row + 1) # Add a sub-plot at (row, col)\n",
        "        # ax.grid(b=False) # Get rid of the grids\n",
        "        ax.axis(\"off\") # Get rid of the axis\n",
        "        ax.imshow(image[i, :]) # Show random image\n",
        "        ax.set_title(CIFAR10_CLASSES[label[i]]) # Set title of the sub-plot\n",
        "\n",
        "        i = i + 1\n",
        "plt.show()"
      ],
      "metadata": {
        "colab": {
          "base_uri": "https://localhost:8080/",
          "height": 521
        },
        "id": "Jihcx2pRdIXn",
        "outputId": "5f159f78-ae0a-4e73-8c2e-d2962028f14d"
      },
      "execution_count": null,
      "outputs": [
        {
          "output_type": "display_data",
          "data": {
            "text/plain": [
              "<Figure size 600x600 with 9 Axes>"
            ],
            "image/png": "[encoded data removed]"
          },
          "metadata": {}
        }
      ]
    },
    {
      "cell_type": "markdown",
      "source": [
        "# **Task 2:** Creating the filt() Function\n"
      ],
      "metadata": {
        "id": "f1ZOeqbgexJ0"
      }
    },
    {
      "cell_type": "code",
      "source": [
        "# Creating the function\n",
        "\n",
        "def filt(input, filter, padding: bool, normalization: bool):\n",
        "\n",
        "  # getting the features\n",
        "  height, width, channels = input.shape\n",
        "  filter_height, filter_width, filter_channels = filter.shape\n",
        "\n",
        "  # Extract the min and max values of the image\n",
        "  min, max = np.min(input), np.max(input)\n",
        "\n",
        "  # initializing the output image\n",
        "  output = np.zeros((height, width))\n",
        "\n",
        "  # add padding if required\n",
        "  if padding:\n",
        "    padding_height = height // 2\n",
        "    padding_width = width // 2\n",
        "\n",
        "    # add the padding to the image\n",
        "    input = np.pad(input, ((padding_height, padding_height), (padding_width, padding_width), (0, 0))) # returns an image with padding added\n",
        "\n",
        "  else:\n",
        "    # when there's no padding the image size must decrease\n",
        "    # n - k + 1\n",
        "    # n = image size, k = filter size\n",
        "    dimensions = (height - filter_height + 1, width - filter_width + 1)\n",
        "    output = np.zeros(dimensions)\n",
        "\n",
        "    # Update the dimensions for the loops\n",
        "    height -= (filter_height - 1)\n",
        "    width -= (filter_width - 1)\n",
        "\n",
        "  # Iterate over the image\n",
        "  for x in range(height):\n",
        "    for y in range(width):\n",
        "\n",
        "      val = 0\n",
        "\n",
        "      # Calculate the region of interest\n",
        "      ROI = input[x:x + filter_height, y:y + filter_width, :]\n",
        "\n",
        "      # perform element-wise multiplication and then sum the values\n",
        "      val += np.sum(ROI * filter)\n",
        "\n",
        "      # Update the output image with the filtered value\n",
        "      output[x, y] = val\n",
        "\n",
        "  # normalize if required\n",
        "  if normalization:\n",
        "    output = (output - min) / (max - min)\n",
        "\n",
        "  # return the final output\n",
        "  return output\n",
        "\n",
        "# filter with 2 channels\n",
        "filter = np.array([\n",
        "    [[1, 1], [1, 1]],\n",
        "    [[1, 1], [1, 1]]\n",
        "])\n",
        "\n",
        "# sample input with 2 channels\n",
        "sample_input = np.array([\n",
        "    [[10, 20], [30, 40], [50, 60]],\n",
        "    [[70, 80], [90, 100], [110, 120]],\n",
        "    [[130, 140], [150, 160], [170, 180]]\n",
        "])\n",
        "\n",
        "# # Cases for testing\n",
        "# print('No padding, no normalization\\n', filt(sample_input, filter, 0, 0)) # No padding, no normalization\n",
        "# print('No padding, Normalize\\n', filt(sample_input, filter, 0, 1)) # No padding, Normalize\n",
        "# print('Padding, no normalization\\n', filt(sample_input, filter, 1, 0)) # Padding, no normalization\n",
        "# print('Padding, Normalize\\n', filt(sample_input, filter, 1, 1)) # Padding, Normalize\n",
        "\n",
        "# Applying on the images\n",
        "\n",
        "# filter with 3 channels\n",
        "image_filter = np.array([\n",
        "    [[1, 1, 1], [1, 1, 1]],\n",
        "    [[1, 1, 1], [1, 1, 1]]\n",
        "])\n",
        "\n",
        "# Sharpening Filter\n",
        "sharp = np.array([\n",
        "    [[0, 0, 0], [-1, -1, -1], [0, 0, 0]],\n",
        "    [[-1, -1, -1],  [5, 5, 5], [-1, -1, -1]],\n",
        "    [[0, 0, 0], [-1, -1, -1], [0, 0, 0]],\n",
        "])\n",
        "\n",
        "# list to store the filtered images\n",
        "List_of_Images = []\n",
        "\n",
        "# Applying on every image\n",
        "for img in image:\n",
        "  x = filt(img, sharp, 1, 1)\n",
        "  List_of_Images.append(x)"
      ],
      "metadata": {
        "id": "GexKq3Uje_0W"
      },
      "execution_count": null,
      "outputs": []
    },
    {
      "cell_type": "markdown",
      "source": [
        "### Displaying the Images"
      ],
      "metadata": {
        "id": "t7-FavAo20Nx"
      }
    },
    {
      "cell_type": "code",
      "source": [
        "fig = plt.figure(figsize=(2 * cols, 2 * rows))\n",
        "\n",
        "i = 0\n",
        "\n",
        "# Add subplot for each image\n",
        "for col in range(cols):\n",
        "    for row in range(rows):\n",
        "\n",
        "        ax = fig.add_subplot(rows, cols, col * rows + row + 1) # Add a sub-plot at (row, col)\n",
        "        # ax.grid(b=False) # Get rid of the grids\n",
        "        ax.axis(\"off\") # Get rid of the axis\n",
        "        ax.imshow(List_of_Images[i]) # Show random image\n",
        "        ax.set_title(CIFAR10_CLASSES[label[i]]) # Set title of the sub-plot\n",
        "\n",
        "        i = i + 1\n",
        "plt.show()"
      ],
      "metadata": {
        "colab": {
          "base_uri": "https://localhost:8080/",
          "height": 521
        },
        "id": "hRVAeyts2zJa",
        "outputId": "f4532692-749a-4a9b-b9c8-965ebbbf99a7"
      },
      "execution_count": null,
      "outputs": [
        {
          "output_type": "display_data",
          "data": {
            "text/plain": [
              "<Figure size 600x600 with 9 Axes>"
            ],
            "image/png": "[encoded data removed]"
          },
          "metadata": {}
        }
      ]
    },
    {
      "cell_type": "code",
      "source": [
        "# not my solution\n",
        "\n",
        "import math\n",
        "\n",
        "def filt(input, filter, padding, normalization):\n",
        "  width, height= input.shape[0], input.shape[1]\n",
        "  x_filter, y_filter = filter.shape\n",
        "  pad_width = math.ceil((x_filter - 1)/2)\n",
        "  pad_height = math.ceil((y_filter - 1)/2)\n",
        "\n",
        "  output_image = np.zeros(input.shape)\n",
        "  padded_image = input\n",
        "\n",
        "  if len(input.shape) != 3: #Greyscale image\n",
        "    if padding:\n",
        "      padded_image = np.zeros((width + (2 * pad_width), height + (2 * pad_height)))\n",
        "      padded_image = np.pad(input, (pad_width, pad_height), mode='constant')\n",
        "\n",
        "    elif not padding:\n",
        "      sub_img = np.subtract(padded_image.shape[0:2], filter.shape)\n",
        "      output_image = np.zeros((sub_img[0] + 1, sub_img[1] + 1), dtype=int)\n",
        "\n",
        "    if normalization:\n",
        "      padded_image = padded_image.astype(\"float32\")\n",
        "      output_image = output_image.astype(\"float32\")\n",
        "      padded_image = (padded_image -  np.amin(padded_image))/ np.amax(padded_image)+ np.amin(padded_image)\n",
        "\n",
        "    output_width = output_image.shape[0] - x_filter + 1\n",
        "    output_height = output_image.shape[1] - y_filter + 1\n",
        "\n",
        "    for i in range(output_width):\n",
        "      for j in range(output_height):\n",
        "          output_image[i, j] = np.sum(filter*padded_image[i:i+x_filter, j:j+y_filter])\n",
        "\n",
        "  else: #RGB image\n",
        "    if padding:\n",
        "      padded_image = np.zeros((input.shape[0] + (2 * pad_width), input.shape[1] + (2 * pad_width), 3))\n",
        "      padded_image[:, :, 0] = np.pad(input[:, :, 0], pad_width, mode='constant')\n",
        "      padded_image[:, :, 1] = np.pad(input[:, :, 1], pad_width, mode='constant')\n",
        "      padded_image[:, :, 2] = np.pad(input[:, :, 2], pad_width, mode='constant')\n",
        "      output_image = np.zeros(padded_image.shape)\n",
        "\n",
        "    elif not padding:\n",
        "      sub_img = np.subtract(padded_image.shape[0:2], filter.shape)\n",
        "      output_image = np.zeros((sub_img[0] + 1, sub_img[1] + 1), dtype=int)\n",
        "\n",
        "    if normalization:\n",
        "      padded_image = padded_image.astype(\"float32\")\n",
        "      output_image = output_image.astype(\"float32\")\n",
        "\n",
        "      padded_image[:, :, 0]= (padded_image[:, :, 0] - np.amin(padded_image[:, :, 0])) / (np.amax(padded_image[:, :, 0])- np.amin(padded_image[:, :, 0]))\n",
        "      padded_image[:, :, 1]= (padded_image[:, :, 1] - np.amin(padded_image[:, :, 1])) / (np.amax(padded_image[:, :, 1])- np.amin(padded_image[:, :, 1]))\n",
        "      padded_image[:, :, 2]= (padded_image[:, :, 2] - np.amin(padded_image[:, :, 2])) / (np.amax(padded_image[:, :, 2])- np.amin(padded_image[:, :, 2]))\n",
        "\n",
        "    output_width = output_image.shape[0] - x_filter + 1\n",
        "    output_height = output_image.shape[1] - y_filter + 1\n",
        "\n",
        "    for i in range(3): #3 channels\n",
        "      for j in range(output_width):\n",
        "        for k in range(output_height):\n",
        "          output_image[j,k,i] = np.sum(filter * padded_image[:, :, i][j:j+x_filter, k:k+y_filter])\n",
        "\n",
        "  return output_image"
      ],
      "metadata": {
        "id": "8L7bgrSYcn9f"
      },
      "execution_count": null,
      "outputs": []
    },
    {
      "cell_type": "markdown",
      "source": [
        "## Task 3\n",
        "\n",
        "### Feed Forward Neural Network"
      ],
      "metadata": {
        "id": "VYuUdAeQeUhq"
      }
    },
    {
      "cell_type": "code",
      "source": [
        "# Training function\n",
        "\n",
        "def train_for_epoch():\n",
        "\n",
        "  # train the model\n",
        "  model.train()\n",
        "\n",
        "  # keeping track of the training losses\n",
        "  training_losses = []\n",
        "\n",
        "  for batch, targets in tqdm(training_loader):\n",
        "\n",
        "    # moving the data to the GPU\n",
        "    batch = batch.to(device)\n",
        "    targets = targets.to(device)\n",
        "\n",
        "    # set the gradient to zero\n",
        "    optimizer.zero_grad()\n",
        "\n",
        "    # forward propogration\n",
        "    predictions = model(batch)\n",
        "\n",
        "    # calculating the loss\n",
        "    loss = criterion(predictions, targets)\n",
        "\n",
        "    # backpropagate\n",
        "    loss.backward()\n",
        "\n",
        "    # updating weights\n",
        "    optimizer.step()\n",
        "\n",
        "    # update the loss in the list\n",
        "    training_losses.append(loss.item())\n",
        "\n",
        "  train_loss = np.mean(training_losses)\n",
        "\n",
        "  return train_loss"
      ],
      "metadata": {
        "id": "T8Y7CvhSeTcA"
      },
      "execution_count": null,
      "outputs": []
    },
    {
      "cell_type": "code",
      "source": [
        "# testing function\n",
        "\n",
        "def test():\n",
        "\n",
        "    # put the model in the testing mode\n",
        "    model.eval()\n",
        "\n",
        "    # for tracking the losses and predictions\n",
        "    test_losses = []\n",
        "    test_predictions = []\n",
        "\n",
        "    # to avoid calculating gradients\n",
        "    # helps save computational resources\n",
        "    with torch.no_grad():\n",
        "        for batch, targets in tqdm(testing_loader):\n",
        "\n",
        "            # Moving things to the device\n",
        "            batch = batch.to(device)\n",
        "            targets = targets.to(device)\n",
        "\n",
        "            # forward propagation\n",
        "            predictions = model(batch)\n",
        "\n",
        "            # calculate the loss\n",
        "            loss = criterion(predictions, targets)\n",
        "\n",
        "            # update the losses' list\n",
        "            test_losses.append(loss.item())\n",
        "\n",
        "            # save the predictions\n",
        "            test_predictions.extend(predictions.argmax(dim=1).cpu().numpy())\n",
        "\n",
        "    # find the average test loss\n",
        "    avg_test_loss = np.mean(test_losses)\n",
        "\n",
        "    # Collect predictions into y_pred and ground truth into y_true\n",
        "    y_pred = np.array(test_predictions, dtype=np.float32)\n",
        "    y_true = np.array(testing_data.targets, dtype=np.float32)\n",
        "\n",
        "    # Calculate accuracy as the average number of times y_true == y_pred\n",
        "    accuracy = np.mean([y_pred[i] == y_true[i] for i in range(len(y_true))])\n",
        "\n",
        "    return avg_test_loss, accuracy"
      ],
      "metadata": {
        "id": "AwGzwygbhz8j"
      },
      "execution_count": null,
      "outputs": []
    },
    {
      "cell_type": "code",
      "source": [
        "# final training\n",
        "\n",
        "def train(first_epoch, num_epochs):\n",
        "\n",
        "    train_losses = []\n",
        "    test_losses = []\n",
        "    epoch_num = []\n",
        "\n",
        "    for epoch in range(first_epoch, first_epoch + num_epochs):\n",
        "        # tracking the epoch\n",
        "        epoch_num.append(epoch)\n",
        "\n",
        "        # training for each epoch\n",
        "        train_loss = train_for_epoch()\n",
        "        train_losses.append(train_loss)\n",
        "\n",
        "        # test the model\n",
        "        test_loss, test_accuracy = test()\n",
        "\n",
        "        test_losses.append(test_loss)\n",
        "\n",
        "        print(f'[{epoch:03d}] train loss: {train_loss:04f}',\n",
        "                f'test loss: {test_loss:04f}',\n",
        "                f'test accuracy: {test_accuracy:04f}')\n",
        "\n",
        "        print('')\n",
        "\n",
        "    return epoch_num, train_losses, test_losses"
      ],
      "metadata": {
        "id": "FsaAkOcPllTL"
      },
      "execution_count": null,
      "outputs": []
    },
    {
      "cell_type": "code",
      "source": [
        "# Define Model\n",
        "\n",
        "class MLP(nn.Module):\n",
        "\n",
        "    def __init__(self, input_size=32*32*3, output_size=10):\n",
        "        super().__init__()\n",
        "\n",
        "        self.flatten = nn.Flatten()\n",
        "        self.fc1 = nn.Linear(input_size, 1024)\n",
        "        self.fc2 = nn.Linear(1024, 512)\n",
        "        self.fc3 = nn.Linear(512, 256)\n",
        "        self.fc4 = nn.Linear(256, 128)\n",
        "        self.fc5 = nn.Linear(128, 64)\n",
        "        self.fc6 = nn.Linear(64, output_size)\n",
        "\n",
        "    def forward(self, x):\n",
        "        x = self.flatten(x)\n",
        "        x = F.relu(self.fc1(x))\n",
        "        x = F.relu(self.fc2(x))\n",
        "        x = F.relu(self.fc3(x))\n",
        "        x = F.relu(self.fc4(x))\n",
        "        x = F.relu(self.fc5(x))\n",
        "        x = F.relu(self.fc6(x))\n",
        "\n",
        "        return x"
      ],
      "metadata": {
        "id": "As7EmqtznGks"
      },
      "execution_count": null,
      "outputs": []
    },
    {
      "cell_type": "code",
      "source": [
        "# Creating an instance of the model\n",
        "model = MLP()\n",
        "\n",
        "# Shift the model to the GPU\n",
        "model.to(device)"
      ],
      "metadata": {
        "colab": {
          "base_uri": "https://localhost:8080/"
        },
        "id": "OXn9eCF4pFeM",
        "outputId": "6d729ffe-3a6f-47cf-ab72-15eac6157f6d"
      },
      "execution_count": null,
      "outputs": [
        {
          "output_type": "execute_result",
          "data": {
            "text/plain": [
              "MLP(\n",
              "  (flatten): Flatten(start_dim=1, end_dim=-1)\n",
              "  (fc1): Linear(in_features=3072, out_features=1024, bias=True)\n",
              "  (fc2): Linear(in_features=1024, out_features=512, bias=True)\n",
              "  (fc3): Linear(in_features=512, out_features=256, bias=True)\n",
              "  (fc4): Linear(in_features=256, out_features=128, bias=True)\n",
              "  (fc5): Linear(in_features=128, out_features=64, bias=True)\n",
              "  (fc6): Linear(in_features=64, out_features=10, bias=True)\n",
              ")"
            ]
          },
          "metadata": {},
          "execution_count": 122
        }
      ]
    },
    {
      "cell_type": "code",
      "source": [
        "# Initialize the optimizer and losses\n",
        "criterion = torch.nn.CrossEntropyLoss()\n",
        "optimizer = optim.SGD(model.parameters(), lr = 0.001, momentum = 0.9)  #optim.Adam(model.parameters(), lr=0.001)"
      ],
      "metadata": {
        "id": "Ui7vR5hJpcIp"
      },
      "execution_count": null,
      "outputs": []
    },
    {
      "cell_type": "code",
      "source": [
        "# Train for 75 epochs\n",
        "epochs, train_losses, test_losses = train(1, 25)# final training\n",
        "\n",
        "def train(first_epoch, num_epochs):\n",
        "\n",
        "    train_losses = []\n",
        "    test_losses = []\n",
        "    epoch_num = []\n",
        "\n",
        "    for epoch in range(first_epoch, first_epoch + num_epochs):\n",
        "        # tracking the epoch\n",
        "        epoch_num.append(epoch)\n",
        "\n",
        "        # training for each epoch\n",
        "        train_loss = train_for_epoch()\n",
        "        train_losses.append(train_loss)\n",
        "\n",
        "        # test the model\n",
        "        test_loss, test_accuracy = test()\n",
        "\n",
        "        test_losses.append(test_loss)\n",
        "\n",
        "        print(f'[{epoch:03d}] train loss: {train_loss:04f}',\n",
        "                f'test loss: {test_loss:04f}',\n",
        "                f'test accuracy: {test_accuracy:04f}')\n",
        "\n",
        "        print('')\n",
        "\n",
        "    return epoch_num, train_losses, test_losses"
      ],
      "metadata": {
        "colab": {
          "base_uri": "https://localhost:8080/"
        },
        "id": "QwIuKnCYszSY",
        "outputId": "b1b5a583-710e-434b-c311-eb5edcbf9df4"
      },
      "execution_count": null,
      "outputs": [
        {
          "output_type": "stream",
          "name": "stderr",
          "text": [
            "100%|██████████| 391/391 [00:10<00:00, 38.97it/s]\n",
            "100%|██████████| 40/40 [00:02<00:00, 19.54it/s]\n"
          ]
        },
        {
          "output_type": "stream",
          "name": "stdout",
          "text": [
            "[001] train loss: 2.302599 test loss: 2.301775 test accuracy: 0.108500\n",
            "\n"
          ]
        },
        {
          "output_type": "stream",
          "name": "stderr",
          "text": [
            "100%|██████████| 391/391 [00:09<00:00, 41.73it/s]\n",
            "100%|██████████| 40/40 [00:02<00:00, 16.19it/s]\n"
          ]
        },
        {
          "output_type": "stream",
          "name": "stdout",
          "text": [
            "[002] train loss: 2.301362 test loss: 2.300522 test accuracy: 0.150700\n",
            "\n"
          ]
        },
        {
          "output_type": "stream",
          "name": "stderr",
          "text": [
            "100%|██████████| 391/391 [00:09<00:00, 43.09it/s]\n",
            "100%|██████████| 40/40 [00:02<00:00, 14.06it/s]\n"
          ]
        },
        {
          "output_type": "stream",
          "name": "stdout",
          "text": [
            "[003] train loss: 2.299892 test loss: 2.298662 test accuracy: 0.159300\n",
            "\n"
          ]
        },
        {
          "output_type": "stream",
          "name": "stderr",
          "text": [
            "100%|██████████| 391/391 [00:09<00:00, 42.86it/s]\n",
            "100%|██████████| 40/40 [00:02<00:00, 16.28it/s]\n"
          ]
        },
        {
          "output_type": "stream",
          "name": "stdout",
          "text": [
            "[004] train loss: 2.297429 test loss: 2.295311 test accuracy: 0.156500\n",
            "\n"
          ]
        },
        {
          "output_type": "stream",
          "name": "stderr",
          "text": [
            "100%|██████████| 391/391 [00:09<00:00, 41.12it/s]\n",
            "100%|██████████| 40/40 [00:02<00:00, 19.34it/s]\n"
          ]
        },
        {
          "output_type": "stream",
          "name": "stdout",
          "text": [
            "[005] train loss: 2.292689 test loss: 2.288562 test accuracy: 0.184800\n",
            "\n"
          ]
        },
        {
          "output_type": "stream",
          "name": "stderr",
          "text": [
            "100%|██████████| 391/391 [00:09<00:00, 40.21it/s]\n",
            "100%|██████████| 40/40 [00:01<00:00, 21.53it/s]\n"
          ]
        },
        {
          "output_type": "stream",
          "name": "stdout",
          "text": [
            "[006] train loss: 2.282191 test loss: 2.272070 test accuracy: 0.168200\n",
            "\n"
          ]
        },
        {
          "output_type": "stream",
          "name": "stderr",
          "text": [
            "100%|██████████| 391/391 [00:10<00:00, 38.36it/s]\n",
            "100%|██████████| 40/40 [00:02<00:00, 17.07it/s]\n"
          ]
        },
        {
          "output_type": "stream",
          "name": "stdout",
          "text": [
            "[007] train loss: 2.252881 test loss: 2.222130 test accuracy: 0.204000\n",
            "\n"
          ]
        },
        {
          "output_type": "stream",
          "name": "stderr",
          "text": [
            "100%|██████████| 391/391 [00:10<00:00, 39.03it/s]\n",
            "100%|██████████| 40/40 [00:01<00:00, 22.08it/s]\n"
          ]
        },
        {
          "output_type": "stream",
          "name": "stdout",
          "text": [
            "[008] train loss: 2.185622 test loss: 2.151045 test accuracy: 0.204300\n",
            "\n"
          ]
        },
        {
          "output_type": "stream",
          "name": "stderr",
          "text": [
            "100%|██████████| 391/391 [00:10<00:00, 38.39it/s]\n",
            "100%|██████████| 40/40 [00:01<00:00, 21.98it/s]\n"
          ]
        },
        {
          "output_type": "stream",
          "name": "stdout",
          "text": [
            "[009] train loss: 2.140612 test loss: 2.129058 test accuracy: 0.201300\n",
            "\n"
          ]
        },
        {
          "output_type": "stream",
          "name": "stderr",
          "text": [
            "100%|██████████| 391/391 [00:10<00:00, 38.83it/s]\n",
            "100%|██████████| 40/40 [00:01<00:00, 21.98it/s]\n"
          ]
        },
        {
          "output_type": "stream",
          "name": "stdout",
          "text": [
            "[010] train loss: 2.123957 test loss: 2.113670 test accuracy: 0.223400\n",
            "\n"
          ]
        },
        {
          "output_type": "stream",
          "name": "stderr",
          "text": [
            "100%|██████████| 391/391 [00:10<00:00, 38.33it/s]\n",
            "100%|██████████| 40/40 [00:01<00:00, 21.60it/s]\n"
          ]
        },
        {
          "output_type": "stream",
          "name": "stdout",
          "text": [
            "[011] train loss: 2.107265 test loss: 2.091186 test accuracy: 0.250000\n",
            "\n"
          ]
        },
        {
          "output_type": "stream",
          "name": "stderr",
          "text": [
            "100%|██████████| 391/391 [00:10<00:00, 38.71it/s]\n",
            "100%|██████████| 40/40 [00:01<00:00, 21.63it/s]\n"
          ]
        },
        {
          "output_type": "stream",
          "name": "stdout",
          "text": [
            "[012] train loss: 2.076300 test loss: 2.044224 test accuracy: 0.262300\n",
            "\n"
          ]
        },
        {
          "output_type": "stream",
          "name": "stderr",
          "text": [
            "100%|██████████| 391/391 [00:10<00:00, 38.27it/s]\n",
            "100%|██████████| 40/40 [00:01<00:00, 21.91it/s]\n"
          ]
        },
        {
          "output_type": "stream",
          "name": "stdout",
          "text": [
            "[013] train loss: 2.004649 test loss: 1.952231 test accuracy: 0.269700\n",
            "\n"
          ]
        },
        {
          "output_type": "stream",
          "name": "stderr",
          "text": [
            "100%|██████████| 391/391 [00:10<00:00, 38.18it/s]\n",
            "100%|██████████| 40/40 [00:01<00:00, 21.81it/s]\n"
          ]
        },
        {
          "output_type": "stream",
          "name": "stdout",
          "text": [
            "[014] train loss: 1.931789 test loss: 1.912075 test accuracy: 0.284600\n",
            "\n"
          ]
        },
        {
          "output_type": "stream",
          "name": "stderr",
          "text": [
            "100%|██████████| 391/391 [00:10<00:00, 38.57it/s]\n",
            "100%|██████████| 40/40 [00:01<00:00, 21.88it/s]\n"
          ]
        },
        {
          "output_type": "stream",
          "name": "stdout",
          "text": [
            "[015] train loss: 1.897300 test loss: 1.876292 test accuracy: 0.295100\n",
            "\n"
          ]
        },
        {
          "output_type": "stream",
          "name": "stderr",
          "text": [
            "100%|██████████| 391/391 [00:10<00:00, 39.00it/s]\n",
            "100%|██████████| 40/40 [00:01<00:00, 21.92it/s]\n"
          ]
        },
        {
          "output_type": "stream",
          "name": "stdout",
          "text": [
            "[016] train loss: 1.874805 test loss: 1.852463 test accuracy: 0.314400\n",
            "\n"
          ]
        },
        {
          "output_type": "stream",
          "name": "stderr",
          "text": [
            "100%|██████████| 391/391 [00:10<00:00, 38.25it/s]\n",
            "100%|██████████| 40/40 [00:01<00:00, 22.01it/s]\n"
          ]
        },
        {
          "output_type": "stream",
          "name": "stdout",
          "text": [
            "[017] train loss: 1.850342 test loss: 1.867971 test accuracy: 0.308000\n",
            "\n"
          ]
        },
        {
          "output_type": "stream",
          "name": "stderr",
          "text": [
            "100%|██████████| 391/391 [00:10<00:00, 38.61it/s]\n",
            "100%|██████████| 40/40 [00:01<00:00, 20.54it/s]\n"
          ]
        },
        {
          "output_type": "stream",
          "name": "stdout",
          "text": [
            "[018] train loss: 1.824764 test loss: 1.809292 test accuracy: 0.328500\n",
            "\n"
          ]
        },
        {
          "output_type": "stream",
          "name": "stderr",
          "text": [
            "100%|██████████| 391/391 [00:09<00:00, 41.04it/s]\n",
            "100%|██████████| 40/40 [00:02<00:00, 16.64it/s]\n"
          ]
        },
        {
          "output_type": "stream",
          "name": "stdout",
          "text": [
            "[019] train loss: 1.802707 test loss: 1.800057 test accuracy: 0.336900\n",
            "\n"
          ]
        },
        {
          "output_type": "stream",
          "name": "stderr",
          "text": [
            "100%|██████████| 391/391 [00:09<00:00, 42.93it/s]\n",
            "100%|██████████| 40/40 [00:02<00:00, 13.90it/s]\n"
          ]
        },
        {
          "output_type": "stream",
          "name": "stdout",
          "text": [
            "[020] train loss: 1.781494 test loss: 1.763208 test accuracy: 0.348000\n",
            "\n"
          ]
        },
        {
          "output_type": "stream",
          "name": "stderr",
          "text": [
            "100%|██████████| 391/391 [00:09<00:00, 42.88it/s]\n",
            "100%|██████████| 40/40 [00:02<00:00, 16.30it/s]\n"
          ]
        },
        {
          "output_type": "stream",
          "name": "stdout",
          "text": [
            "[021] train loss: 1.763359 test loss: 1.787135 test accuracy: 0.341400\n",
            "\n"
          ]
        },
        {
          "output_type": "stream",
          "name": "stderr",
          "text": [
            "100%|██████████| 391/391 [00:09<00:00, 40.94it/s]\n",
            "100%|██████████| 40/40 [00:01<00:00, 20.62it/s]\n"
          ]
        },
        {
          "output_type": "stream",
          "name": "stdout",
          "text": [
            "[022] train loss: 1.740697 test loss: 1.725394 test accuracy: 0.365300\n",
            "\n"
          ]
        },
        {
          "output_type": "stream",
          "name": "stderr",
          "text": [
            "100%|██████████| 391/391 [00:09<00:00, 39.52it/s]\n",
            "100%|██████████| 40/40 [00:01<00:00, 21.74it/s]\n"
          ]
        },
        {
          "output_type": "stream",
          "name": "stdout",
          "text": [
            "[023] train loss: 1.714662 test loss: 1.694082 test accuracy: 0.375600\n",
            "\n"
          ]
        },
        {
          "output_type": "stream",
          "name": "stderr",
          "text": [
            "100%|██████████| 391/391 [00:10<00:00, 38.07it/s]\n",
            "100%|██████████| 40/40 [00:01<00:00, 21.70it/s]\n"
          ]
        },
        {
          "output_type": "stream",
          "name": "stdout",
          "text": [
            "[024] train loss: 1.687763 test loss: 1.698360 test accuracy: 0.379600\n",
            "\n"
          ]
        },
        {
          "output_type": "stream",
          "name": "stderr",
          "text": [
            "100%|██████████| 391/391 [00:10<00:00, 38.71it/s]\n",
            "100%|██████████| 40/40 [00:01<00:00, 21.90it/s]"
          ]
        },
        {
          "output_type": "stream",
          "name": "stdout",
          "text": [
            "[025] train loss: 1.659043 test loss: 1.640460 test accuracy: 0.397500\n",
            "\n"
          ]
        },
        {
          "output_type": "stream",
          "name": "stderr",
          "text": [
            "\n"
          ]
        }
      ]
    },
    {
      "cell_type": "markdown",
      "source": [
        "### Creating a CNN"
      ],
      "metadata": {
        "id": "R2hFuAse4KtV"
      }
    },
    {
      "cell_type": "code",
      "source": [
        "# Creating the CNN\n",
        "\n",
        "class CNN(nn.Module):\n",
        "\n",
        "    def __init__(self, input_channels = 3, output_size = 10):\n",
        "        # initialize the ctor\n",
        "        super().__init__()\n",
        "\n",
        "        self.conv1 = nn.Conv2d(input_channels, 32, kernel_size = 3, padding = 1)\n",
        "        self.conv2 = nn.Conv2d(32, 64, kernel_size = 3,  stride = 1, padding = 1)\n",
        "        self.maxPool = nn.MaxPool2d(2, 2)\n",
        "\n",
        "        self.conv3 = nn.Conv2d(64, 128, kernel_size = 3, stride = 1, padding = 1)\n",
        "        self.conv4 = nn.Conv2d(128, 256, kernel_size = 3, stride = 1, padding = 1)\n",
        "\n",
        "        self.flatten = nn.Flatten()\n",
        "        self.fc1 = nn.Linear(256*4*4, 1024)\n",
        "        self.fc2 = nn.Linear(1024, 512)\n",
        "        self.fc3 = nn.Linear(512, output_size)\n",
        "\n",
        "    def forward(self, x):\n",
        "        x = self.conv1(x)\n",
        "        x = F.relu(x)\n",
        "        x = self.conv2(x)\n",
        "        x = F.relu(x)\n",
        "\n",
        "        x = self.maxPool(x)\n",
        "\n",
        "        x = self.conv3(x)\n",
        "        x = F.relu(x)\n",
        "\n",
        "        x = self.maxPool(x)\n",
        "\n",
        "        x = self.conv4(x)\n",
        "        x = F.relu(x)\n",
        "\n",
        "        x = self.maxPool(x)\n",
        "\n",
        "        x = self.flatten(x)\n",
        "\n",
        "        x = self.fc1(x)\n",
        "        x = F.relu(x)\n",
        "        x = self.fc2(x)\n",
        "        x = F.relu(x)\n",
        "        x = self.fc3(x)\n",
        "\n",
        "        return x"
      ],
      "metadata": {
        "id": "2IL2tDUq4Inx"
      },
      "execution_count": null,
      "outputs": []
    },
    {
      "cell_type": "code",
      "source": [
        "# Create an instance of the model CNN\n",
        "model = CNN()\n",
        "\n",
        "# Shift the model to the GPU\n",
        "model.to(device)"
      ],
      "metadata": {
        "colab": {
          "base_uri": "https://localhost:8080/"
        },
        "id": "TOZxSYh893CK",
        "outputId": "b106a775-4952-4b0c-ab15-5f502c5bacb6"
      },
      "execution_count": null,
      "outputs": [
        {
          "output_type": "execute_result",
          "data": {
            "text/plain": [
              "CNN(\n",
              "  (conv1): Conv2d(3, 32, kernel_size=(3, 3), stride=(1, 1), padding=(1, 1))\n",
              "  (conv2): Conv2d(32, 64, kernel_size=(3, 3), stride=(1, 1), padding=(1, 1))\n",
              "  (maxPool): MaxPool2d(kernel_size=2, stride=2, padding=0, dilation=1, ceil_mode=False)\n",
              "  (conv3): Conv2d(64, 128, kernel_size=(3, 3), stride=(1, 1), padding=(1, 1))\n",
              "  (conv4): Conv2d(128, 256, kernel_size=(3, 3), stride=(1, 1), padding=(1, 1))\n",
              "  (flatten): Flatten(start_dim=1, end_dim=-1)\n",
              "  (fc1): Linear(in_features=4096, out_features=1024, bias=True)\n",
              "  (fc2): Linear(in_features=1024, out_features=512, bias=True)\n",
              "  (fc3): Linear(in_features=512, out_features=10, bias=True)\n",
              ")"
            ]
          },
          "metadata": {},
          "execution_count": 126
        }
      ]
    },
    {
      "cell_type": "code",
      "source": [
        "# set the optimizer and the loss functions\n",
        "criterion = torch.nn.CrossEntropyLoss()\n",
        "optimizer = optim.Adam(model.parameters(), lr = 0.001)"
      ],
      "metadata": {
        "id": "ntG2TxJv-Dhh"
      },
      "execution_count": null,
      "outputs": []
    },
    {
      "cell_type": "code",
      "source": [
        "newEpochs, newTrainingLosses, newTestingLosses = train(1, 15)"
      ],
      "metadata": {
        "colab": {
          "base_uri": "https://localhost:8080/"
        },
        "id": "FL0LLph3-cLA",
        "outputId": "0e294d13-4362-4c2c-b0d2-79d5570fd1ae"
      },
      "execution_count": null,
      "outputs": [
        {
          "output_type": "stream",
          "name": "stderr",
          "text": [
            "100%|██████████| 391/391 [00:11<00:00, 33.89it/s]\n",
            "100%|██████████| 40/40 [00:01<00:00, 20.87it/s]\n"
          ]
        },
        {
          "output_type": "stream",
          "name": "stdout",
          "text": [
            "[001] train loss: 1.598367 test loss: 1.260980 test accuracy: 0.542400\n",
            "\n"
          ]
        },
        {
          "output_type": "stream",
          "name": "stderr",
          "text": [
            "100%|██████████| 391/391 [00:11<00:00, 33.59it/s]\n",
            "100%|██████████| 40/40 [00:01<00:00, 20.67it/s]\n"
          ]
        },
        {
          "output_type": "stream",
          "name": "stdout",
          "text": [
            "[002] train loss: 1.015012 test loss: 0.895276 test accuracy: 0.689700\n",
            "\n"
          ]
        },
        {
          "output_type": "stream",
          "name": "stderr",
          "text": [
            "100%|██████████| 391/391 [00:11<00:00, 33.74it/s]\n",
            "100%|██████████| 40/40 [00:01<00:00, 20.24it/s]\n"
          ]
        },
        {
          "output_type": "stream",
          "name": "stdout",
          "text": [
            "[003] train loss: 0.755975 test loss: 0.760395 test accuracy: 0.736100\n",
            "\n"
          ]
        },
        {
          "output_type": "stream",
          "name": "stderr",
          "text": [
            "100%|██████████| 391/391 [00:11<00:00, 33.83it/s]\n",
            "100%|██████████| 40/40 [00:02<00:00, 16.97it/s]\n"
          ]
        },
        {
          "output_type": "stream",
          "name": "stdout",
          "text": [
            "[004] train loss: 0.601939 test loss: 0.720533 test accuracy: 0.750800\n",
            "\n"
          ]
        },
        {
          "output_type": "stream",
          "name": "stderr",
          "text": [
            "100%|██████████| 391/391 [00:11<00:00, 35.53it/s]\n",
            "100%|██████████| 40/40 [00:02<00:00, 14.31it/s]\n"
          ]
        },
        {
          "output_type": "stream",
          "name": "stdout",
          "text": [
            "[005] train loss: 0.475745 test loss: 0.719925 test accuracy: 0.766900\n",
            "\n"
          ]
        },
        {
          "output_type": "stream",
          "name": "stderr",
          "text": [
            "100%|██████████| 391/391 [00:10<00:00, 36.00it/s]\n",
            "100%|██████████| 40/40 [00:02<00:00, 14.27it/s]\n"
          ]
        },
        {
          "output_type": "stream",
          "name": "stdout",
          "text": [
            "[006] train loss: 0.360905 test loss: 0.758898 test accuracy: 0.762400\n",
            "\n"
          ]
        },
        {
          "output_type": "stream",
          "name": "stderr",
          "text": [
            "100%|██████████| 391/391 [00:11<00:00, 34.92it/s]\n",
            "100%|██████████| 40/40 [00:02<00:00, 16.94it/s]\n"
          ]
        },
        {
          "output_type": "stream",
          "name": "stdout",
          "text": [
            "[007] train loss: 0.258486 test loss: 0.740904 test accuracy: 0.782100\n",
            "\n"
          ]
        },
        {
          "output_type": "stream",
          "name": "stderr",
          "text": [
            "100%|██████████| 391/391 [00:11<00:00, 33.60it/s]\n",
            "100%|██████████| 40/40 [00:01<00:00, 20.93it/s]\n"
          ]
        },
        {
          "output_type": "stream",
          "name": "stdout",
          "text": [
            "[008] train loss: 0.179974 test loss: 0.879468 test accuracy: 0.769800\n",
            "\n"
          ]
        },
        {
          "output_type": "stream",
          "name": "stderr",
          "text": [
            "100%|██████████| 391/391 [00:11<00:00, 33.81it/s]\n",
            "100%|██████████| 40/40 [00:01<00:00, 21.12it/s]\n"
          ]
        },
        {
          "output_type": "stream",
          "name": "stdout",
          "text": [
            "[009] train loss: 0.131993 test loss: 0.959735 test accuracy: 0.776400\n",
            "\n"
          ]
        },
        {
          "output_type": "stream",
          "name": "stderr",
          "text": [
            "100%|██████████| 391/391 [00:11<00:00, 33.75it/s]\n",
            "100%|██████████| 40/40 [00:01<00:00, 20.15it/s]\n"
          ]
        },
        {
          "output_type": "stream",
          "name": "stdout",
          "text": [
            "[010] train loss: 0.111987 test loss: 1.008312 test accuracy: 0.763300\n",
            "\n"
          ]
        },
        {
          "output_type": "stream",
          "name": "stderr",
          "text": [
            "100%|██████████| 391/391 [00:11<00:00, 33.56it/s]\n",
            "100%|██████████| 40/40 [00:01<00:00, 20.68it/s]\n"
          ]
        },
        {
          "output_type": "stream",
          "name": "stdout",
          "text": [
            "[011] train loss: 0.086865 test loss: 1.163710 test accuracy: 0.777800\n",
            "\n"
          ]
        },
        {
          "output_type": "stream",
          "name": "stderr",
          "text": [
            "100%|██████████| 391/391 [00:11<00:00, 33.57it/s]\n",
            "100%|██████████| 40/40 [00:01<00:00, 21.08it/s]\n"
          ]
        },
        {
          "output_type": "stream",
          "name": "stdout",
          "text": [
            "[012] train loss: 0.073553 test loss: 1.134976 test accuracy: 0.776000\n",
            "\n"
          ]
        },
        {
          "output_type": "stream",
          "name": "stderr",
          "text": [
            "100%|██████████| 391/391 [00:11<00:00, 33.35it/s]\n",
            "100%|██████████| 40/40 [00:01<00:00, 20.75it/s]\n"
          ]
        },
        {
          "output_type": "stream",
          "name": "stdout",
          "text": [
            "[013] train loss: 0.074836 test loss: 1.202538 test accuracy: 0.779900\n",
            "\n"
          ]
        },
        {
          "output_type": "stream",
          "name": "stderr",
          "text": [
            "100%|██████████| 391/391 [00:11<00:00, 33.90it/s]\n",
            "100%|██████████| 40/40 [00:01<00:00, 21.06it/s]\n"
          ]
        },
        {
          "output_type": "stream",
          "name": "stdout",
          "text": [
            "[014] train loss: 0.062640 test loss: 1.287495 test accuracy: 0.777000\n",
            "\n"
          ]
        },
        {
          "output_type": "stream",
          "name": "stderr",
          "text": [
            "100%|██████████| 391/391 [00:11<00:00, 33.59it/s]\n",
            "100%|██████████| 40/40 [00:01<00:00, 20.96it/s]"
          ]
        },
        {
          "output_type": "stream",
          "name": "stdout",
          "text": [
            "[015] train loss: 0.063147 test loss: 1.430806 test accuracy: 0.759100\n",
            "\n"
          ]
        },
        {
          "output_type": "stream",
          "name": "stderr",
          "text": [
            "\n"
          ]
        }
      ]
    }
  ]
}